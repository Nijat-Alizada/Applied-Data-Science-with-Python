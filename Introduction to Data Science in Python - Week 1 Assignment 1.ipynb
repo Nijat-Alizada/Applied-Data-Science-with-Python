{
 "cells": [
  {
   "cell_type": "markdown",
   "id": "8a414928",
   "metadata": {},
   "source": [
    "# Part A"
   ]
  },
  {
   "cell_type": "markdown",
   "id": "cf31b8e3",
   "metadata": {},
   "source": [
    "Find a list of all of the names in the following string using regex."
   ]
  },
  {
   "cell_type": "code",
   "execution_count": 1,
   "id": "fa947447",
   "metadata": {},
   "outputs": [],
   "source": [
    "import re\n",
    "def names():\n",
    "    simple_string = \"\"\"Amy is 5 years old, and her sister Mary is 2 years old. \n",
    "    Ruth and Peter, their parents, have 3 kids.\"\"\"\n",
    "\n",
    "    pattern = '[A-Z][a-z]*'\n",
    "    return re.findall(pattern, simple_string)"
   ]
  },
  {
   "cell_type": "code",
   "execution_count": 2,
   "id": "59caa97f",
   "metadata": {},
   "outputs": [
    {
     "data": {
      "text/plain": [
       "['Amy', 'Mary', 'Ruth', 'Peter']"
      ]
     },
     "execution_count": 2,
     "metadata": {},
     "output_type": "execute_result"
    }
   ],
   "source": [
    "names()"
   ]
  },
  {
   "cell_type": "markdown",
   "id": "639d459e",
   "metadata": {},
   "source": [
    "# Part B"
   ]
  },
  {
   "cell_type": "markdown",
   "id": "02d94f05",
   "metadata": {},
   "source": [
    "The dataset file in assets/grades.txt contains a line separated list of people with their grade in a class. Create a regex to generate a list of just those students who received a B in the course."
   ]
  },
  {
   "cell_type": "code",
   "execution_count": 3,
   "id": "b78854d4",
   "metadata": {},
   "outputs": [],
   "source": [
    "import re\n",
    "def grades():\n",
    "    with open (\"grades.txt\", \"r\") as file:\n",
    "        grades = file.read()\n",
    "\n",
    "    return re.findall('[\\w ]+(?=: B)', grades)"
   ]
  },
  {
   "cell_type": "code",
   "execution_count": 4,
   "id": "b090e3ad",
   "metadata": {},
   "outputs": [
    {
     "data": {
      "text/plain": [
       "['Bell Kassulke',\n",
       " 'Simon Loidl',\n",
       " 'Elias Jovanovic',\n",
       " 'Hakim Botros',\n",
       " 'Emilie Lorentsen',\n",
       " 'Jake Wood',\n",
       " 'Fatemeh Akhtar',\n",
       " 'Kim Weston',\n",
       " 'Yasmin Dar',\n",
       " 'Viswamitra Upandhye',\n",
       " 'Killian Kaufman',\n",
       " 'Elwood Page',\n",
       " 'Elodie Booker',\n",
       " 'Adnan Chen',\n",
       " 'Hank Spinka',\n",
       " 'Hannah Bayer']"
      ]
     },
     "execution_count": 4,
     "metadata": {},
     "output_type": "execute_result"
    }
   ],
   "source": [
    "grades()"
   ]
  },
  {
   "cell_type": "markdown",
   "id": "60a825e1",
   "metadata": {},
   "source": [
    "# Part C"
   ]
  },
  {
   "cell_type": "markdown",
   "id": "ed6d6fc8",
   "metadata": {},
   "source": [
    "Consider the standard web log file in assets/logdata.txt. This file records the access a user makes when visiting a web page (like this one!). Each line of the log has the following items:\n",
    "* a host (e.g., '146.204.224.152')\n",
    "* a user_name (e.g., 'feest6811' **note: sometimes the user name is missing! In this case, use '-' as the value for the username.**)\n",
    "* the time a request was made (e.g., 'POST /incentivize HTTP/1.1' **note: not everything is a POST!**)\n",
    "\n",
    "Your task is to convert this into a list of dictionaries, where each dictionary looks like the following:\n",
    "```\n",
    "example_dict = {\"host\": \"146.204.224.152\",\n",
    "                \"user_name\": \"feest6811\",\n",
    "                \"time\": \"21/Jun/2019:15:45:24 -0700\",\n",
    "                \"request\": \"POST /incentivize HTTP/1.1\"}\n",
    "```"
   ]
  },
  {
   "cell_type": "code",
   "execution_count": 5,
   "id": "7da04758",
   "metadata": {},
   "outputs": [],
   "source": [
    "import re\n",
    "def logs():\n",
    "    with open(\"logdata.txt\", \"r\") as file:\n",
    "        logdata = file.read()\n",
    "    regex = '(?P<host>(\\d*\\.){3}.\\d*) - (?P<user_name>.*?) \\[(?P<time>.*?)\\] \\\"(?P<request>[A-Z]* .*?)\\\"'\n",
    "    return [item.groupdict() for item in re.finditer(regex, logdata)]"
   ]
  },
  {
   "cell_type": "code",
   "execution_count": 9,
   "id": "483507de",
   "metadata": {},
   "outputs": [
    {
     "data": {
      "text/plain": [
       "[{'host': '146.204.224.152',\n",
       "  'user_name': 'feest6811',\n",
       "  'time': '21/Jun/2019:15:45:24 -0700',\n",
       "  'request': 'POST /incentivize HTTP/1.1'},\n",
       " {'host': '197.109.77.178',\n",
       "  'user_name': 'kertzmann3129',\n",
       "  'time': '21/Jun/2019:15:45:25 -0700',\n",
       "  'request': 'DELETE /virtual/solutions/target/web+services HTTP/2.0'}]"
      ]
     },
     "execution_count": 9,
     "metadata": {},
     "output_type": "execute_result"
    }
   ],
   "source": [
    "logs()[:2]"
   ]
  },
  {
   "cell_type": "code",
   "execution_count": null,
   "id": "4ce9658a",
   "metadata": {},
   "outputs": [],
   "source": []
  }
 ],
 "metadata": {
  "kernelspec": {
   "display_name": "Python 3",
   "language": "python",
   "name": "python3"
  },
  "language_info": {
   "codemirror_mode": {
    "name": "ipython",
    "version": 3
   },
   "file_extension": ".py",
   "mimetype": "text/x-python",
   "name": "python",
   "nbconvert_exporter": "python",
   "pygments_lexer": "ipython3",
   "version": "3.8.8"
  }
 },
 "nbformat": 4,
 "nbformat_minor": 5
}
